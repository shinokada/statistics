{
 "cells": [
  {
   "cell_type": "markdown",
   "metadata": {},
   "source": [
    "# Taking the Derivative of the Sigmoid Function"
   ]
  },
  {
   "cell_type": "markdown",
   "metadata": {},
   "source": [
    "$\n",
    "s’(x) = \\frac{d}{dx} \\left( \\frac{1}{e^{-x}+1} \\right) = \\frac{-\\frac{d}{dx}(e^{-x}+1)}{(e^{-x}+1)^2}\n",
    "$"
   ]
  },
  {
   "cell_type": "markdown",
   "metadata": {},
   "source": [
    "$= \\frac{-\\frac{d}{dx}(e^{-x})}{(e^{-x}+1)^2}\\\\\n",
    "= \\frac{-( e^{-x} \\cdot \\frac{d}{dx}({-x}))}{(e^{-x}+1)^2}\\\\\n",
    "= \\frac{-(-1)\\cdot{e}^{-x}}{(e^{-x}+1)^2} =\\\\\n",
    "= \\frac{e^{-x}}{(e^{-x}+1)^2}\\\\\n",
    "= \\left( \\frac{1}{e^{-x}+1} \\right) \\left( \\frac{-e^{-x}}{e^{-x}+1} \\right)\\\\\n",
    "s’(x)= s(x)(1-s(x))$"
   ]
  },
  {
   "cell_type": "code",
   "execution_count": 6,
   "metadata": {},
   "outputs": [
    {
     "name": "stdout",
     "output_type": "stream",
     "text": [
      "INPUT ARRAY : \n",
      " [[10 11 12 13]\n",
      " [14 15 16 17]\n",
      " [18 19 20 21]]\n",
      "\n",
      "Max element :  11\n",
      "\n",
      "Indices of Max element :  [2 2 2 2]\n",
      "\n",
      "Indices of Max element :  [3 3 3]\n"
     ]
    }
   ],
   "source": [
    "# Python Program illustrating \n",
    "# working of argmax() \n",
    "\n",
    "import numpy as np \n",
    "\n",
    "# Working on 2D array \n",
    "array = np.arange(12).reshape(3, 4) + 10\n",
    "print(\"INPUT ARRAY : \\n\", array) \n",
    "\n",
    "# No axis mentioned, so works on entire array \n",
    "print(\"\\nMax element : \", np.argmax(array)) \n",
    "\n",
    "# returning Indices of the max element \n",
    "# as per the indices \n",
    "print(\"\\nIndices of Max element : \", np.argmax(array, axis=0)) \n",
    "print(\"\\nIndices of Max element : \", np.argmax(array, axis=1)) \n"
   ]
  },
  {
   "cell_type": "code",
   "execution_count": 11,
   "metadata": {},
   "outputs": [
    {
     "name": "stdout",
     "output_type": "stream",
     "text": [
      "INPUT ARRAY : \n",
      " [[ 7  3 11  4]\n",
      " [ 3 10  9  9]\n",
      " [11 12  9  7]\n",
      " [ 3  7  6 15]]\n",
      "\n",
      "Max element :  15\n",
      "\n",
      "Indices of Max element :  [2 2 0 3]\n",
      "\n",
      "Indices of Max element :  [2 1 1 3]\n"
     ]
    }
   ],
   "source": [
    "# Python Program illustarting \n",
    "# working of argmax() \n",
    "\n",
    "import numpy as geek \n",
    "\n",
    "# Working on 2D array \n",
    "array = geek.random.randint(16, size=(4, 4)) \n",
    "print(\"INPUT ARRAY : \\n\", array) \n",
    "\n",
    "# No axis mentioned, so works on entire array \n",
    "print(\"\\nMax element : \", geek.argmax(array)) \n",
    "\n",
    "# returning Indices of the max element \n",
    "# as per the indices \n",
    "print(\"\\nIndices of Max element : \", geek.argmax(array, axis = 0)) \n",
    "print(\"\\nIndices of Max element : \", geek.argmax(array, axis = 1)) \n"
   ]
  },
  {
   "cell_type": "code",
   "execution_count": null,
   "metadata": {},
   "outputs": [],
   "source": []
  },
  {
   "cell_type": "code",
   "execution_count": null,
   "metadata": {},
   "outputs": [],
   "source": []
  }
 ],
 "metadata": {
  "kernelspec": {
   "display_name": "Python 3",
   "language": "python",
   "name": "python3"
  },
  "language_info": {
   "codemirror_mode": {
    "name": "ipython",
    "version": 3
   },
   "file_extension": ".py",
   "mimetype": "text/x-python",
   "name": "python",
   "nbconvert_exporter": "python",
   "pygments_lexer": "ipython3",
   "version": "3.7.6"
  }
 },
 "nbformat": 4,
 "nbformat_minor": 4
}

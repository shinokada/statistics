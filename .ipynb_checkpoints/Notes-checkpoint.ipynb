{
 "cells": [
  {
   "cell_type": "code",
   "execution_count": 61,
   "metadata": {},
   "outputs": [
    {
     "name": "stdout",
     "output_type": "stream",
     "text": [
      "       Col 1  Col 2  Col 3  Col 4\n",
      "Row 1      1      2      3      4\n",
      "Row 2      5      6      7      8\n",
      "Row 3      9     10     11     12\n",
      "Row 4     13     14     15     16\n",
      "Row 1     1\n",
      "Row 2     5\n",
      "Row 3     9\n",
      "Row 4    13\n",
      "Name: Col 1, dtype: int64\n",
      "10\n",
      "10\n"
     ]
    }
   ],
   "source": [
    "import pandas as pd\n",
    "import numpy as np\n",
    "mydata = np.array([[1,2,3,4],\n",
    "                   [5,6,7,8],\n",
    "                   [9,10,11,12],\n",
    "                   [13,14,15,16]]\n",
    "                 )\n",
    "\n",
    "df = pd.DataFrame(mydata)\n",
    "df.index=[\"Row 1\",\"Row 2\",\"Row 3\",\"Row 4\"]\n",
    "df.columns=[\"Col 1\", \"Col 2\", \"Col 3\", \"Col 4\"]\n",
    "print(df)\n",
    "\n",
    "print(df[\"Col 1\"])\n",
    "print(df[\"Col 2\"][\"Row 3\"])\n",
    "print(df[\"Col 2\"][2])\n",
    "# This does not work\n",
    "# print(df[1][2])\n"
   ]
  },
  {
   "cell_type": "code",
   "execution_count": 58,
   "metadata": {},
   "outputs": [
    {
     "name": "stdout",
     "output_type": "stream",
     "text": [
      "    0   1   2   3\n",
      "0   5   6   7   8\n",
      "1   9  10  11  12\n",
      "2  13  14  15  16\n",
      "    0   1\n",
      "0   3   4\n",
      "1   7   8\n",
      "2  11  12\n",
      "3  15  16\n",
      "    0   1\n",
      "0   7   8\n",
      "1  11  12\n",
      "2  15  16\n"
     ]
    }
   ],
   "source": [
    "# To select after the first row and all columns, use `df[1:,:]`.\n",
    "pd1= pd.DataFrame(\n",
    "    data=mydata[1:,:]\n",
    ")\n",
    "print(pd1)\n",
    "\n",
    "# To select all rows and after the second column, use `df[:,2:].\n",
    "pd2= pd.DataFrame(\n",
    "    data=mydata[:,2:]\n",
    ")\n",
    "print(pd2)\n",
    "\n",
    "# To select after the first row and after the second column, use `df[1:,2:]`.\n",
    "pd3= pd.DataFrame(\n",
    "    data=mydata[1:,2:]\n",
    ")\n",
    "print(pd3)\n"
   ]
  },
  {
   "cell_type": "code",
   "execution_count": 63,
   "metadata": {},
   "outputs": [
    {
     "data": {
      "text/html": [
       "<div>\n",
       "<style scoped>\n",
       "    .dataframe tbody tr th:only-of-type {\n",
       "        vertical-align: middle;\n",
       "    }\n",
       "\n",
       "    .dataframe tbody tr th {\n",
       "        vertical-align: top;\n",
       "    }\n",
       "\n",
       "    .dataframe thead th {\n",
       "        text-align: right;\n",
       "    }\n",
       "</style>\n",
       "<table border=\"1\" class=\"dataframe\">\n",
       "  <thead>\n",
       "    <tr style=\"text-align: right;\">\n",
       "      <th></th>\n",
       "      <th>Balck</th>\n",
       "      <th>White</th>\n",
       "      <th>Red</th>\n",
       "      <th>Blue</th>\n",
       "    </tr>\n",
       "  </thead>\n",
       "  <tbody>\n",
       "    <tr>\n",
       "      <th>A</th>\n",
       "      <td>48</td>\n",
       "      <td>22</td>\n",
       "      <td>33</td>\n",
       "      <td>47</td>\n",
       "    </tr>\n",
       "    <tr>\n",
       "      <th>B</th>\n",
       "      <td>35</td>\n",
       "      <td>36</td>\n",
       "      <td>42</td>\n",
       "      <td>27</td>\n",
       "    </tr>\n",
       "    <tr>\n",
       "      <th>C</th>\n",
       "      <td>30</td>\n",
       "      <td>40</td>\n",
       "      <td>25</td>\n",
       "      <td>34</td>\n",
       "    </tr>\n",
       "  </tbody>\n",
       "</table>\n",
       "</div>"
      ],
      "text/plain": [
       "   Balck  White  Red  Blue\n",
       "A     48     22   33    47\n",
       "B     35     36   42    27\n",
       "C     30     40   25    34"
      ]
     },
     "execution_count": 63,
     "metadata": {},
     "output_type": "execute_result"
    }
   ],
   "source": [
    "from scipy.stats import chi2_contingency\n",
    "tshirts = pd.DataFrame(\n",
    "    [\n",
    "        [48,22,33,47],\n",
    "        [35,36,42,27],\n",
    "        [30,40,25,34]\n",
    "    ],\n",
    "    index=[\"A\",\"B\",\"C\"],\n",
    "    columns=[\"Balck\",\"White\",\"Red\",\"Blue\"])\n",
    "tshirts"
   ]
  },
  {
   "cell_type": "code",
   "execution_count": 64,
   "metadata": {},
   "outputs": [
    {
     "data": {
      "text/plain": [
       "(18.288665039662153,\n",
       " 0.005549881012168249,\n",
       " 6,\n",
       " array([[40.45346062, 35.08353222, 35.79952267, 38.66348449],\n",
       "        [37.75656325, 32.74463007, 33.41288783, 36.08591885],\n",
       "        [34.78997613, 30.17183771, 30.7875895 , 33.25059666]]))"
      ]
     },
     "execution_count": 64,
     "metadata": {},
     "output_type": "execute_result"
    }
   ],
   "source": [
    "chi2_contingency(tshirts)"
   ]
  },
  {
   "cell_type": "code",
   "execution_count": null,
   "metadata": {},
   "outputs": [],
   "source": []
  }
 ],
 "metadata": {
  "kernelspec": {
   "display_name": "Python 3",
   "language": "python",
   "name": "python3"
  },
  "language_info": {
   "codemirror_mode": {
    "name": "ipython",
    "version": 3
   },
   "file_extension": ".py",
   "mimetype": "text/x-python",
   "name": "python",
   "nbconvert_exporter": "python",
   "pygments_lexer": "ipython3",
   "version": "3.7.5"
  },
  "latex_envs": {
   "LaTeX_envs_menu_present": true,
   "autoclose": false,
   "autocomplete": true,
   "bibliofile": "biblio.bib",
   "cite_by": "apalike",
   "current_citInitial": 1,
   "eqLabelWithNumbers": true,
   "eqNumInitial": 1,
   "hotkeys": {
    "equation": "Ctrl-E",
    "itemize": "Ctrl-I"
   },
   "labels_anchors": false,
   "latex_user_defs": false,
   "report_style_numbering": false,
   "user_envs_cfg": false
  }
 },
 "nbformat": 4,
 "nbformat_minor": 2
}
